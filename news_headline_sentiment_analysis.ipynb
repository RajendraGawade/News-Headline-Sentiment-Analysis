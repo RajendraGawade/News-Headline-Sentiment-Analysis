{
 "cells": [
  {
   "cell_type": "code",
   "execution_count": null,
   "id": "cf1133f8",
   "metadata": {},
   "outputs": [],
   "source": []
  },
  {
   "cell_type": "code",
   "execution_count": 1,
   "id": "90c3d129",
   "metadata": {},
   "outputs": [],
   "source": [
    "import pandas as pd\n",
    "import numpy as np\n",
    "import warnings\n",
    "warnings.filterwarnings('ignore')\n"
   ]
  },
  {
   "cell_type": "code",
   "execution_count": 2,
   "id": "1c6b6d0c",
   "metadata": {},
   "outputs": [
    {
     "name": "stdout",
     "output_type": "stream",
     "text": [
      "WARNING:tensorflow:From C:\\Users\\rajen\\anaconda3\\Lib\\site-packages\\keras\\src\\losses.py:2976: The name tf.losses.sparse_softmax_cross_entropy is deprecated. Please use tf.compat.v1.losses.sparse_softmax_cross_entropy instead.\n",
      "\n"
     ]
    }
   ],
   "source": [
    "from transformers import pipeline"
   ]
  },
  {
   "cell_type": "code",
   "execution_count": 3,
   "id": "63f0f590",
   "metadata": {},
   "outputs": [
    {
     "name": "stderr",
     "output_type": "stream",
     "text": [
      "No model was supplied, defaulted to FacebookAI/roberta-large-mnli and revision 130fb28 (https://huggingface.co/FacebookAI/roberta-large-mnli).\n",
      "Using a pipeline without specifying a model name and revision in production is not recommended.\n"
     ]
    },
    {
     "data": {
      "application/vnd.jupyter.widget-view+json": {
       "model_id": "8376999afe324d86aecebba5bba76711",
       "version_major": 2,
       "version_minor": 0
      },
      "text/plain": [
       "config.json:   0%|          | 0.00/688 [00:00<?, ?B/s]"
      ]
     },
     "metadata": {},
     "output_type": "display_data"
    },
    {
     "data": {
      "application/vnd.jupyter.widget-view+json": {
       "model_id": "c7d8c7f6e3ba44cc926f8e8e2bcceebc",
       "version_major": 2,
       "version_minor": 0
      },
      "text/plain": [
       "model.safetensors:   0%|          | 0.00/1.43G [00:00<?, ?B/s]"
      ]
     },
     "metadata": {},
     "output_type": "display_data"
    },
    {
     "name": "stdout",
     "output_type": "stream",
     "text": [
      "WARNING:tensorflow:From C:\\Users\\rajen\\anaconda3\\Lib\\site-packages\\keras\\src\\backend.py:873: The name tf.get_default_graph is deprecated. Please use tf.compat.v1.get_default_graph instead.\n",
      "\n"
     ]
    },
    {
     "name": "stderr",
     "output_type": "stream",
     "text": [
      "All PyTorch model weights were used when initializing TFRobertaForSequenceClassification.\n",
      "\n",
      "All the weights of TFRobertaForSequenceClassification were initialized from the PyTorch model.\n",
      "If your task is similar to the task the model of the checkpoint was trained on, you can already use TFRobertaForSequenceClassification for predictions without further training.\n"
     ]
    },
    {
     "data": {
      "application/vnd.jupyter.widget-view+json": {
       "model_id": "d8ac8c62ef1e47659a79df2886997957",
       "version_major": 2,
       "version_minor": 0
      },
      "text/plain": [
       "tokenizer_config.json:   0%|          | 0.00/25.0 [00:00<?, ?B/s]"
      ]
     },
     "metadata": {},
     "output_type": "display_data"
    },
    {
     "data": {
      "application/vnd.jupyter.widget-view+json": {
       "model_id": "3d0b6ae919b94d2a9ee5728a31376885",
       "version_major": 2,
       "version_minor": 0
      },
      "text/plain": [
       "vocab.json:   0%|          | 0.00/899k [00:00<?, ?B/s]"
      ]
     },
     "metadata": {},
     "output_type": "display_data"
    },
    {
     "data": {
      "application/vnd.jupyter.widget-view+json": {
       "model_id": "5bb98e9224be44ae83208b82f46b69f5",
       "version_major": 2,
       "version_minor": 0
      },
      "text/plain": [
       "merges.txt:   0%|          | 0.00/456k [00:00<?, ?B/s]"
      ]
     },
     "metadata": {},
     "output_type": "display_data"
    },
    {
     "data": {
      "application/vnd.jupyter.widget-view+json": {
       "model_id": "191e44e8b2a7414e949884bfe3233271",
       "version_major": 2,
       "version_minor": 0
      },
      "text/plain": [
       "tokenizer.json:   0%|          | 0.00/1.36M [00:00<?, ?B/s]"
      ]
     },
     "metadata": {},
     "output_type": "display_data"
    }
   ],
   "source": [
    "\n",
    "classifier = pipeline(\"zero-shot-classification\", device=0)"
   ]
  },
  {
   "cell_type": "code",
   "execution_count": 4,
   "id": "cc42c12d",
   "metadata": {},
   "outputs": [],
   "source": [
    "headlines = pd.read_csv(r\"D:\\Datasets\\india-news-headlines.csv (1)\\india-news-headlines.csv\")"
   ]
  },
  {
   "cell_type": "code",
   "execution_count": 5,
   "id": "9bee1f26",
   "metadata": {},
   "outputs": [],
   "source": [
    "df_head = headlines.head(100)"
   ]
  },
  {
   "cell_type": "code",
   "execution_count": 6,
   "id": "4fe5f21d",
   "metadata": {},
   "outputs": [],
   "source": [
    "samples = headlines[1:100]"
   ]
  },
  {
   "cell_type": "code",
   "execution_count": 7,
   "id": "bde4c5b6",
   "metadata": {},
   "outputs": [],
   "source": [
    "strings = samples.headline_text.values"
   ]
  },
  {
   "cell_type": "code",
   "execution_count": 8,
   "id": "8db54ec6",
   "metadata": {},
   "outputs": [],
   "source": [
    "sequence = list(strings)"
   ]
  },
  {
   "cell_type": "code",
   "execution_count": 9,
   "id": "8dca73a4",
   "metadata": {},
   "outputs": [
    {
     "name": "stdout",
     "output_type": "stream",
     "text": [
      "['Fissures in Hurriyat over Pak visit', \"America's unwanted heading for India?\", 'For bigwigs; it is destination Goa', 'Extra buses to clear tourist traffic', 'Dilute the power of transfers; says Riberio', 'Focus shifts to teaching of Hindi', 'IT will become compulsory in schools', \"Move to stop freedom fighters' pension flayed\", 'Gilani claims he applied for passport 2 years ago', \"Parivar dismisses PM's warning\", 'India; Pak exchange lists of N-plants', \"Will Qureshi's return really help the govt?\", \"PM's tacit message: Put Ram tample on hold\", \"Text of the Prime Minister's article\", 'NCW to focus on violence against women', \"BBC's reality TV will focus on AIIMS\", 'Jaitley firm on legal reforms', 'Hoshangabad farmers have enough water', 'BJP jumps into rail track conversion issue', \"America's unwanted heading for India?\", 'State may take AP to court over Krishna', 'This official has sued the briber', 'Park turns temple compound as residents watch', 'Moves afoot to evict squatters in Urban dist', 'Mafia calls the shots in Gandhinagar too', 'Status quo will not be disturbed at Ayodhya; says Vajpayee', 'Fissures in Hurriyat over Pak visit', \"America's unwanted heading for India?\", 'For bigwigs; it is destination Goa', 'Extra buses to clear tourist traffic', 'Dilute the power of transfers; says Riberio', 'Focus shifts to teaching of Hindi', 'IT will become compulsory in schools', \"Move to stop freedom fighters' pension flayed\", 'Gilani claims he applied for passport 2 years ago', \"Parivar dismisses PM's warning\", 'India; Pak exchange lists of N-plants', \"Will Qureshi's return really help the govt?\", \"PM's tacit message: Put Ram tample on hold\", \"Text of the Prime Minister's article\", 'NCW to focus on violence against women', \"BBC's reality TV will focus on AIIMS\", 'Jaitley firm on legal reforms', 'Hoshangabad farmers have enough water', 'BJP jumps into rail track conversion issue', \"America's unwanted heading for India?\", 'State may take AP to court over Krishna', 'This official has sued the briber', 'Park turns temple compound as residents watch', 'Moves afoot to evict squatters in Urban dist', 'Mafia calls the shots in Gandhinagar too', 'Come to Nandi Hills...and you can fly', 'HAL approached for super jumbo project', 'Nagathihalli returns with Preethiya Hudugi', 'Fashion in the future', 'Promises to keep', 'Home is where the holistic science is', 'A noisy effort to spruce up Commercial Street', 'The best music of the year', 'Redemption night; amid some rock', 'Consul is back from month-long leave', 'Bomb hoax triggers panic in Canara Bank', \"Petition over ministers' assets dismissed\", \"He beat polio; but a truck driver's is no life\", 'Destroying myths and doubts on sexuality', 'Planning Dept seeks Rs 350 crore more', 'More engg colleges if needed in state: Govt', \"Auto driver's murder: 4 held\", 'Meet held on cashew crop forecasting', 'Awareness rally on AIDS today', 'Record power generation at RTPS', \"Move to stop freedom fighters' pension flayed\", 'Snags delay digital maps of city', \"Making education a people's movement\", 'Murder spoils 2001 party in Dharwad', 'Now a website on a seer', 'Akki-Alur and Ranebennur peaceful', 'Weekly editor resorts to hunger strike', 'Bickering cost Dal(S) seats; admits Gowda', 'BJP to block traffic statewide on Jan 6', 'Dr Patwardhan to be felicitated', 'Lingambudhi will be turned into bird sanctuary', 'Cactus which made it to Guinness is dying', 'VIPs suffer as power supply is stopped to govt guest houses', 'Raju Chacha', 'Powerless north India gropes in the dark', 'Think again; Laxman tells Sangh Parivar', 'Hurriyat undecided over team to Pakistan', 'Vajpayee wants to put reforms on fast track', 'Stephen Hawking keeps date with Mumbai', 'Anti-Hrithik or anti-hopelessness', 'Govt plans stadium near Panaji', 'BJP doing a volte face on casinos: Cong', '3 watershed projects on the anvil', 'No report yet on fire in Udyog Bhavan', \"He is the king of 'five star' industry\", 'Petrol pump sealed for selling adulterated fuel', 'Milk price up by Rs 1 per litre', 'Congress House is no-smoking zone']\n"
     ]
    }
   ],
   "source": [
    "print(sequence)"
   ]
  },
  {
   "cell_type": "markdown",
   "id": "77ea761b",
   "metadata": {},
   "source": [
    "# Classification"
   ]
  },
  {
   "cell_type": "code",
   "execution_count": 11,
   "id": "bc6dca2a",
   "metadata": {},
   "outputs": [],
   "source": [
    "candidate_labels = [\"politics\", \"finance\", \"sports\",'entertainment','agriculture','technology']"
   ]
  },
  {
   "cell_type": "code",
   "execution_count": 12,
   "id": "35097aa9",
   "metadata": {},
   "outputs": [
    {
     "data": {
      "text/html": [
       "<div>\n",
       "<style scoped>\n",
       "    .dataframe tbody tr th:only-of-type {\n",
       "        vertical-align: middle;\n",
       "    }\n",
       "\n",
       "    .dataframe tbody tr th {\n",
       "        vertical-align: top;\n",
       "    }\n",
       "\n",
       "    .dataframe thead th {\n",
       "        text-align: right;\n",
       "    }\n",
       "</style>\n",
       "<table border=\"1\" class=\"dataframe\">\n",
       "  <thead>\n",
       "    <tr style=\"text-align: right;\">\n",
       "      <th></th>\n",
       "      <th>publish_date</th>\n",
       "      <th>headline_category</th>\n",
       "      <th>headline_text</th>\n",
       "    </tr>\n",
       "  </thead>\n",
       "  <tbody>\n",
       "    <tr>\n",
       "      <th>0</th>\n",
       "      <td>20010102</td>\n",
       "      <td>unknown</td>\n",
       "      <td>Status quo will not be disturbed at Ayodhya; s...</td>\n",
       "    </tr>\n",
       "    <tr>\n",
       "      <th>1</th>\n",
       "      <td>20010102</td>\n",
       "      <td>unknown</td>\n",
       "      <td>Fissures in Hurriyat over Pak visit</td>\n",
       "    </tr>\n",
       "    <tr>\n",
       "      <th>2</th>\n",
       "      <td>20010102</td>\n",
       "      <td>unknown</td>\n",
       "      <td>America's unwanted heading for India?</td>\n",
       "    </tr>\n",
       "    <tr>\n",
       "      <th>3</th>\n",
       "      <td>20010102</td>\n",
       "      <td>unknown</td>\n",
       "      <td>For bigwigs; it is destination Goa</td>\n",
       "    </tr>\n",
       "    <tr>\n",
       "      <th>4</th>\n",
       "      <td>20010102</td>\n",
       "      <td>unknown</td>\n",
       "      <td>Extra buses to clear tourist traffic</td>\n",
       "    </tr>\n",
       "  </tbody>\n",
       "</table>\n",
       "</div>"
      ],
      "text/plain": [
       "   publish_date headline_category  \\\n",
       "0      20010102           unknown   \n",
       "1      20010102           unknown   \n",
       "2      20010102           unknown   \n",
       "3      20010102           unknown   \n",
       "4      20010102           unknown   \n",
       "\n",
       "                                       headline_text  \n",
       "0  Status quo will not be disturbed at Ayodhya; s...  \n",
       "1                Fissures in Hurriyat over Pak visit  \n",
       "2              America's unwanted heading for India?  \n",
       "3                 For bigwigs; it is destination Goa  \n",
       "4               Extra buses to clear tourist traffic  "
      ]
     },
     "execution_count": 12,
     "metadata": {},
     "output_type": "execute_result"
    }
   ],
   "source": [
    "df_head.head()"
   ]
  },
  {
   "cell_type": "code",
   "execution_count": 13,
   "id": "b0e952f8",
   "metadata": {},
   "outputs": [],
   "source": [
    "output = classifier(sequence, candidate_labels,multi_label = True)"
   ]
  },
  {
   "cell_type": "code",
   "execution_count": 14,
   "id": "903b64f3",
   "metadata": {},
   "outputs": [],
   "source": [
    "op = pd.DataFrame(output)"
   ]
  },
  {
   "cell_type": "code",
   "execution_count": 15,
   "id": "435a562e",
   "metadata": {},
   "outputs": [
    {
     "data": {
      "text/html": [
       "<div>\n",
       "<style scoped>\n",
       "    .dataframe tbody tr th:only-of-type {\n",
       "        vertical-align: middle;\n",
       "    }\n",
       "\n",
       "    .dataframe tbody tr th {\n",
       "        vertical-align: top;\n",
       "    }\n",
       "\n",
       "    .dataframe thead th {\n",
       "        text-align: right;\n",
       "    }\n",
       "</style>\n",
       "<table border=\"1\" class=\"dataframe\">\n",
       "  <thead>\n",
       "    <tr style=\"text-align: right;\">\n",
       "      <th></th>\n",
       "      <th>sequence</th>\n",
       "      <th>labels</th>\n",
       "      <th>scores</th>\n",
       "    </tr>\n",
       "  </thead>\n",
       "  <tbody>\n",
       "    <tr>\n",
       "      <th>0</th>\n",
       "      <td>Fissures in Hurriyat over Pak visit</td>\n",
       "      <td>[politics, agriculture, entertainment, technol...</td>\n",
       "      <td>[0.979146420955658, 0.030156193301081657, 0.02...</td>\n",
       "    </tr>\n",
       "    <tr>\n",
       "      <th>1</th>\n",
       "      <td>America's unwanted heading for India?</td>\n",
       "      <td>[politics, technology, agriculture, finance, e...</td>\n",
       "      <td>[0.7532967925071716, 0.1243741437792778, 0.067...</td>\n",
       "    </tr>\n",
       "    <tr>\n",
       "      <th>2</th>\n",
       "      <td>For bigwigs; it is destination Goa</td>\n",
       "      <td>[politics, finance, technology, entertainment,...</td>\n",
       "      <td>[0.9892963171005249, 0.505460798740387, 0.0090...</td>\n",
       "    </tr>\n",
       "    <tr>\n",
       "      <th>3</th>\n",
       "      <td>Extra buses to clear tourist traffic</td>\n",
       "      <td>[entertainment, technology, sports, politics, ...</td>\n",
       "      <td>[0.3601195812225342, 0.0993569940328598, 0.010...</td>\n",
       "    </tr>\n",
       "    <tr>\n",
       "      <th>4</th>\n",
       "      <td>Dilute the power of transfers; says Riberio</td>\n",
       "      <td>[politics, finance, technology, sports, agricu...</td>\n",
       "      <td>[0.8494516015052795, 0.6625909209251404, 0.279...</td>\n",
       "    </tr>\n",
       "    <tr>\n",
       "      <th>...</th>\n",
       "      <td>...</td>\n",
       "      <td>...</td>\n",
       "      <td>...</td>\n",
       "    </tr>\n",
       "    <tr>\n",
       "      <th>94</th>\n",
       "      <td>No report yet on fire in Udyog Bhavan</td>\n",
       "      <td>[politics, entertainment, agriculture, technol...</td>\n",
       "      <td>[0.28364863991737366, 0.2321501076221466, 0.04...</td>\n",
       "    </tr>\n",
       "    <tr>\n",
       "      <th>95</th>\n",
       "      <td>He is the king of 'five star' industry</td>\n",
       "      <td>[finance, entertainment, technology, agricultu...</td>\n",
       "      <td>[0.42259612679481506, 0.40971213579177856, 0.3...</td>\n",
       "    </tr>\n",
       "    <tr>\n",
       "      <th>96</th>\n",
       "      <td>Petrol pump sealed for selling adulterated fuel</td>\n",
       "      <td>[technology, entertainment, finance, politics,...</td>\n",
       "      <td>[0.06289373338222504, 0.026098735630512238, 0....</td>\n",
       "    </tr>\n",
       "    <tr>\n",
       "      <th>97</th>\n",
       "      <td>Milk price up by Rs 1 per litre</td>\n",
       "      <td>[agriculture, finance, technology, politics, e...</td>\n",
       "      <td>[0.925066351890564, 0.08487078547477722, 0.022...</td>\n",
       "    </tr>\n",
       "    <tr>\n",
       "      <th>98</th>\n",
       "      <td>Congress House is no-smoking zone</td>\n",
       "      <td>[politics, entertainment, finance, technology,...</td>\n",
       "      <td>[0.9085630774497986, 0.19272901117801666, 0.03...</td>\n",
       "    </tr>\n",
       "  </tbody>\n",
       "</table>\n",
       "<p>99 rows × 3 columns</p>\n",
       "</div>"
      ],
      "text/plain": [
       "                                           sequence  \\\n",
       "0               Fissures in Hurriyat over Pak visit   \n",
       "1             America's unwanted heading for India?   \n",
       "2                For bigwigs; it is destination Goa   \n",
       "3              Extra buses to clear tourist traffic   \n",
       "4       Dilute the power of transfers; says Riberio   \n",
       "..                                              ...   \n",
       "94            No report yet on fire in Udyog Bhavan   \n",
       "95           He is the king of 'five star' industry   \n",
       "96  Petrol pump sealed for selling adulterated fuel   \n",
       "97                  Milk price up by Rs 1 per litre   \n",
       "98                Congress House is no-smoking zone   \n",
       "\n",
       "                                               labels  \\\n",
       "0   [politics, agriculture, entertainment, technol...   \n",
       "1   [politics, technology, agriculture, finance, e...   \n",
       "2   [politics, finance, technology, entertainment,...   \n",
       "3   [entertainment, technology, sports, politics, ...   \n",
       "4   [politics, finance, technology, sports, agricu...   \n",
       "..                                                ...   \n",
       "94  [politics, entertainment, agriculture, technol...   \n",
       "95  [finance, entertainment, technology, agricultu...   \n",
       "96  [technology, entertainment, finance, politics,...   \n",
       "97  [agriculture, finance, technology, politics, e...   \n",
       "98  [politics, entertainment, finance, technology,...   \n",
       "\n",
       "                                               scores  \n",
       "0   [0.979146420955658, 0.030156193301081657, 0.02...  \n",
       "1   [0.7532967925071716, 0.1243741437792778, 0.067...  \n",
       "2   [0.9892963171005249, 0.505460798740387, 0.0090...  \n",
       "3   [0.3601195812225342, 0.0993569940328598, 0.010...  \n",
       "4   [0.8494516015052795, 0.6625909209251404, 0.279...  \n",
       "..                                                ...  \n",
       "94  [0.28364863991737366, 0.2321501076221466, 0.04...  \n",
       "95  [0.42259612679481506, 0.40971213579177856, 0.3...  \n",
       "96  [0.06289373338222504, 0.026098735630512238, 0....  \n",
       "97  [0.925066351890564, 0.08487078547477722, 0.022...  \n",
       "98  [0.9085630774497986, 0.19272901117801666, 0.03...  \n",
       "\n",
       "[99 rows x 3 columns]"
      ]
     },
     "execution_count": 15,
     "metadata": {},
     "output_type": "execute_result"
    }
   ],
   "source": [
    "op"
   ]
  },
  {
   "cell_type": "markdown",
   "id": "dfa9c734",
   "metadata": {},
   "source": [
    "# Sentiment Analysis"
   ]
  },
  {
   "cell_type": "code",
   "execution_count": 16,
   "id": "651e0239",
   "metadata": {},
   "outputs": [],
   "source": [
    "sentiment_labels = ['positive','negative']"
   ]
  },
  {
   "cell_type": "code",
   "execution_count": 17,
   "id": "46781857",
   "metadata": {},
   "outputs": [],
   "source": [
    "sent = classifier(sequence, sentiment_labels)"
   ]
  },
  {
   "cell_type": "code",
   "execution_count": 18,
   "id": "74203af3",
   "metadata": {},
   "outputs": [
    {
     "data": {
      "text/plain": [
       "[{'sequence': 'Fissures in Hurriyat over Pak visit',\n",
       "  'labels': ['negative', 'positive'],\n",
       "  'scores': [0.9849997162818909, 0.015000333078205585]},\n",
       " {'sequence': \"America's unwanted heading for India?\",\n",
       "  'labels': ['negative', 'positive'],\n",
       "  'scores': [0.9815513491630554, 0.01844860427081585]},\n",
       " {'sequence': 'For bigwigs; it is destination Goa',\n",
       "  'labels': ['positive', 'negative'],\n",
       "  'scores': [0.9190369844436646, 0.08096306771039963]},\n",
       " {'sequence': 'Extra buses to clear tourist traffic',\n",
       "  'labels': ['positive', 'negative'],\n",
       "  'scores': [0.8420474529266357, 0.15795251727104187]},\n",
       " {'sequence': 'Dilute the power of transfers; says Riberio',\n",
       "  'labels': ['negative', 'positive'],\n",
       "  'scores': [0.967667281627655, 0.03233269602060318]},\n",
       " {'sequence': 'Focus shifts to teaching of Hindi',\n",
       "  'labels': ['positive', 'negative'],\n",
       "  'scores': [0.6335524916648865, 0.3664475083351135]},\n",
       " {'sequence': 'IT will become compulsory in schools',\n",
       "  'labels': ['positive', 'negative'],\n",
       "  'scores': [0.8381671905517578, 0.1618327796459198]},\n",
       " {'sequence': \"Move to stop freedom fighters' pension flayed\",\n",
       "  'labels': ['negative', 'positive'],\n",
       "  'scores': [0.9144182801246643, 0.08558173477649689]},\n",
       " {'sequence': 'Gilani claims he applied for passport 2 years ago',\n",
       "  'labels': ['negative', 'positive'],\n",
       "  'scores': [0.8011020421981812, 0.19889794290065765]},\n",
       " {'sequence': \"Parivar dismisses PM's warning\",\n",
       "  'labels': ['negative', 'positive'],\n",
       "  'scores': [0.9275911450386047, 0.07240888476371765]},\n",
       " {'sequence': 'India; Pak exchange lists of N-plants',\n",
       "  'labels': ['negative', 'positive'],\n",
       "  'scores': [0.9762001633644104, 0.023799816146492958]},\n",
       " {'sequence': \"Will Qureshi's return really help the govt?\",\n",
       "  'labels': ['negative', 'positive'],\n",
       "  'scores': [0.7633339166641235, 0.23666611313819885]},\n",
       " {'sequence': \"PM's tacit message: Put Ram tample on hold\",\n",
       "  'labels': ['negative', 'positive'],\n",
       "  'scores': [0.9444085359573364, 0.055591482669115067]},\n",
       " {'sequence': \"Text of the Prime Minister's article\",\n",
       "  'labels': ['negative', 'positive'],\n",
       "  'scores': [0.6577762365341187, 0.34222376346588135]},\n",
       " {'sequence': 'NCW to focus on violence against women',\n",
       "  'labels': ['negative', 'positive'],\n",
       "  'scores': [0.9856488108634949, 0.014351221732795238]},\n",
       " {'sequence': \"BBC's reality TV will focus on AIIMS\",\n",
       "  'labels': ['positive', 'negative'],\n",
       "  'scores': [0.6595231890678406, 0.34047678112983704]},\n",
       " {'sequence': 'Jaitley firm on legal reforms',\n",
       "  'labels': ['positive', 'negative'],\n",
       "  'scores': [0.6901293396949768, 0.3098706603050232]},\n",
       " {'sequence': 'Hoshangabad farmers have enough water',\n",
       "  'labels': ['positive', 'negative'],\n",
       "  'scores': [0.9375993013381958, 0.06240067631006241]},\n",
       " {'sequence': 'BJP jumps into rail track conversion issue',\n",
       "  'labels': ['negative', 'positive'],\n",
       "  'scores': [0.9256248474121094, 0.07437516003847122]},\n",
       " {'sequence': \"America's unwanted heading for India?\",\n",
       "  'labels': ['negative', 'positive'],\n",
       "  'scores': [0.9815513491630554, 0.01844860427081585]},\n",
       " {'sequence': 'State may take AP to court over Krishna',\n",
       "  'labels': ['negative', 'positive'],\n",
       "  'scores': [0.952809751033783, 0.047190211713314056]},\n",
       " {'sequence': 'This official has sued the briber',\n",
       "  'labels': ['negative', 'positive'],\n",
       "  'scores': [0.9672021269798279, 0.032797906547784805]},\n",
       " {'sequence': 'Park turns temple compound as residents watch',\n",
       "  'labels': ['negative', 'positive'],\n",
       "  'scores': [0.9144500494003296, 0.0855499804019928]},\n",
       " {'sequence': 'Moves afoot to evict squatters in Urban dist',\n",
       "  'labels': ['negative', 'positive'],\n",
       "  'scores': [0.9661134481430054, 0.033886540681123734]},\n",
       " {'sequence': 'Mafia calls the shots in Gandhinagar too',\n",
       "  'labels': ['negative', 'positive'],\n",
       "  'scores': [0.9675837159156799, 0.032416243106126785]},\n",
       " {'sequence': 'Status quo will not be disturbed at Ayodhya; says Vajpayee',\n",
       "  'labels': ['positive', 'negative'],\n",
       "  'scores': [0.603446364402771, 0.3965536653995514]},\n",
       " {'sequence': 'Fissures in Hurriyat over Pak visit',\n",
       "  'labels': ['negative', 'positive'],\n",
       "  'scores': [0.9849997162818909, 0.015000333078205585]},\n",
       " {'sequence': \"America's unwanted heading for India?\",\n",
       "  'labels': ['negative', 'positive'],\n",
       "  'scores': [0.9815513491630554, 0.01844860427081585]},\n",
       " {'sequence': 'For bigwigs; it is destination Goa',\n",
       "  'labels': ['positive', 'negative'],\n",
       "  'scores': [0.9190369844436646, 0.08096306771039963]},\n",
       " {'sequence': 'Extra buses to clear tourist traffic',\n",
       "  'labels': ['positive', 'negative'],\n",
       "  'scores': [0.8420474529266357, 0.15795251727104187]},\n",
       " {'sequence': 'Dilute the power of transfers; says Riberio',\n",
       "  'labels': ['negative', 'positive'],\n",
       "  'scores': [0.967667281627655, 0.03233269602060318]},\n",
       " {'sequence': 'Focus shifts to teaching of Hindi',\n",
       "  'labels': ['positive', 'negative'],\n",
       "  'scores': [0.6335524916648865, 0.3664475083351135]},\n",
       " {'sequence': 'IT will become compulsory in schools',\n",
       "  'labels': ['positive', 'negative'],\n",
       "  'scores': [0.8381671905517578, 0.1618327796459198]},\n",
       " {'sequence': \"Move to stop freedom fighters' pension flayed\",\n",
       "  'labels': ['negative', 'positive'],\n",
       "  'scores': [0.9144182801246643, 0.08558173477649689]},\n",
       " {'sequence': 'Gilani claims he applied for passport 2 years ago',\n",
       "  'labels': ['negative', 'positive'],\n",
       "  'scores': [0.8011020421981812, 0.19889794290065765]},\n",
       " {'sequence': \"Parivar dismisses PM's warning\",\n",
       "  'labels': ['negative', 'positive'],\n",
       "  'scores': [0.9275911450386047, 0.07240888476371765]},\n",
       " {'sequence': 'India; Pak exchange lists of N-plants',\n",
       "  'labels': ['negative', 'positive'],\n",
       "  'scores': [0.9762001633644104, 0.023799816146492958]},\n",
       " {'sequence': \"Will Qureshi's return really help the govt?\",\n",
       "  'labels': ['negative', 'positive'],\n",
       "  'scores': [0.7633339166641235, 0.23666611313819885]},\n",
       " {'sequence': \"PM's tacit message: Put Ram tample on hold\",\n",
       "  'labels': ['negative', 'positive'],\n",
       "  'scores': [0.9444085359573364, 0.055591482669115067]},\n",
       " {'sequence': \"Text of the Prime Minister's article\",\n",
       "  'labels': ['negative', 'positive'],\n",
       "  'scores': [0.6577762365341187, 0.34222376346588135]},\n",
       " {'sequence': 'NCW to focus on violence against women',\n",
       "  'labels': ['negative', 'positive'],\n",
       "  'scores': [0.9856488108634949, 0.014351221732795238]},\n",
       " {'sequence': \"BBC's reality TV will focus on AIIMS\",\n",
       "  'labels': ['positive', 'negative'],\n",
       "  'scores': [0.6595231890678406, 0.34047678112983704]},\n",
       " {'sequence': 'Jaitley firm on legal reforms',\n",
       "  'labels': ['positive', 'negative'],\n",
       "  'scores': [0.6901293396949768, 0.3098706603050232]},\n",
       " {'sequence': 'Hoshangabad farmers have enough water',\n",
       "  'labels': ['positive', 'negative'],\n",
       "  'scores': [0.9375993013381958, 0.06240067631006241]},\n",
       " {'sequence': 'BJP jumps into rail track conversion issue',\n",
       "  'labels': ['negative', 'positive'],\n",
       "  'scores': [0.9256248474121094, 0.07437516003847122]},\n",
       " {'sequence': \"America's unwanted heading for India?\",\n",
       "  'labels': ['negative', 'positive'],\n",
       "  'scores': [0.9815513491630554, 0.01844860427081585]},\n",
       " {'sequence': 'State may take AP to court over Krishna',\n",
       "  'labels': ['negative', 'positive'],\n",
       "  'scores': [0.952809751033783, 0.047190211713314056]},\n",
       " {'sequence': 'This official has sued the briber',\n",
       "  'labels': ['negative', 'positive'],\n",
       "  'scores': [0.9672021269798279, 0.032797906547784805]},\n",
       " {'sequence': 'Park turns temple compound as residents watch',\n",
       "  'labels': ['negative', 'positive'],\n",
       "  'scores': [0.9144500494003296, 0.0855499804019928]},\n",
       " {'sequence': 'Moves afoot to evict squatters in Urban dist',\n",
       "  'labels': ['negative', 'positive'],\n",
       "  'scores': [0.9661134481430054, 0.033886540681123734]},\n",
       " {'sequence': 'Mafia calls the shots in Gandhinagar too',\n",
       "  'labels': ['negative', 'positive'],\n",
       "  'scores': [0.9675837159156799, 0.032416243106126785]},\n",
       " {'sequence': 'Come to Nandi Hills...and you can fly',\n",
       "  'labels': ['positive', 'negative'],\n",
       "  'scores': [0.9360470771789551, 0.06395293027162552]},\n",
       " {'sequence': 'HAL approached for super jumbo project',\n",
       "  'labels': ['positive', 'negative'],\n",
       "  'scores': [0.8876891136169434, 0.11231089383363724]},\n",
       " {'sequence': 'Nagathihalli returns with Preethiya Hudugi',\n",
       "  'labels': ['positive', 'negative'],\n",
       "  'scores': [0.5244547128677368, 0.47554531693458557]},\n",
       " {'sequence': 'Fashion in the future',\n",
       "  'labels': ['positive', 'negative'],\n",
       "  'scores': [0.8831063508987427, 0.11689367145299911]},\n",
       " {'sequence': 'Promises to keep',\n",
       "  'labels': ['positive', 'negative'],\n",
       "  'scores': [0.732846200466156, 0.267153799533844]},\n",
       " {'sequence': 'Home is where the holistic science is',\n",
       "  'labels': ['positive', 'negative'],\n",
       "  'scores': [0.9269307851791382, 0.0730692595243454]},\n",
       " {'sequence': 'A noisy effort to spruce up Commercial Street',\n",
       "  'labels': ['negative', 'positive'],\n",
       "  'scores': [0.6706038117408752, 0.32939621806144714]},\n",
       " {'sequence': 'The best music of the year',\n",
       "  'labels': ['positive', 'negative'],\n",
       "  'scores': [0.9899041652679443, 0.01009580958634615]},\n",
       " {'sequence': 'Redemption night; amid some rock',\n",
       "  'labels': ['positive', 'negative'],\n",
       "  'scores': [0.9077436327934265, 0.0922563448548317]},\n",
       " {'sequence': 'Consul is back from month-long leave',\n",
       "  'labels': ['negative', 'positive'],\n",
       "  'scores': [0.5394724607467651, 0.46052759885787964]},\n",
       " {'sequence': 'Bomb hoax triggers panic in Canara Bank',\n",
       "  'labels': ['negative', 'positive'],\n",
       "  'scores': [0.9865067601203918, 0.013493253849446774]},\n",
       " {'sequence': \"Petition over ministers' assets dismissed\",\n",
       "  'labels': ['negative', 'positive'],\n",
       "  'scores': [0.9493992328643799, 0.05060075595974922]},\n",
       " {'sequence': \"He beat polio; but a truck driver's is no life\",\n",
       "  'labels': ['negative', 'positive'],\n",
       "  'scores': [0.961181640625, 0.038818374276161194]},\n",
       " {'sequence': 'Destroying myths and doubts on sexuality',\n",
       "  'labels': ['positive', 'negative'],\n",
       "  'scores': [0.876268744468689, 0.12373128533363342]},\n",
       " {'sequence': 'Planning Dept seeks Rs 350 crore more',\n",
       "  'labels': ['negative', 'positive'],\n",
       "  'scores': [0.69190514087677, 0.30809485912323]},\n",
       " {'sequence': 'More engg colleges if needed in state: Govt',\n",
       "  'labels': ['positive', 'negative'],\n",
       "  'scores': [0.6583652496337891, 0.3416348099708557]},\n",
       " {'sequence': \"Auto driver's murder: 4 held\",\n",
       "  'labels': ['negative', 'positive'],\n",
       "  'scores': [0.9605395197868347, 0.0394604466855526]},\n",
       " {'sequence': 'Meet held on cashew crop forecasting',\n",
       "  'labels': ['positive', 'negative'],\n",
       "  'scores': [0.5673056244850159, 0.4326944053173065]},\n",
       " {'sequence': 'Awareness rally on AIDS today',\n",
       "  'labels': ['negative', 'positive'],\n",
       "  'scores': [0.9447569251060486, 0.05524314194917679]},\n",
       " {'sequence': 'Record power generation at RTPS',\n",
       "  'labels': ['positive', 'negative'],\n",
       "  'scores': [0.8535641431808472, 0.14643585681915283]},\n",
       " {'sequence': \"Move to stop freedom fighters' pension flayed\",\n",
       "  'labels': ['negative', 'positive'],\n",
       "  'scores': [0.9144182801246643, 0.08558173477649689]},\n",
       " {'sequence': 'Snags delay digital maps of city',\n",
       "  'labels': ['negative', 'positive'],\n",
       "  'scores': [0.9414544105529785, 0.05854565277695656]},\n",
       " {'sequence': \"Making education a people's movement\",\n",
       "  'labels': ['positive', 'negative'],\n",
       "  'scores': [0.9461067914962769, 0.053893182426691055]},\n",
       " {'sequence': 'Murder spoils 2001 party in Dharwad',\n",
       "  'labels': ['negative', 'positive'],\n",
       "  'scores': [0.9925817847251892, 0.0074182418175041676]},\n",
       " {'sequence': 'Now a website on a seer',\n",
       "  'labels': ['negative', 'positive'],\n",
       "  'scores': [0.5253998637199402, 0.47460007667541504]},\n",
       " {'sequence': 'Akki-Alur and Ranebennur peaceful',\n",
       "  'labels': ['positive', 'negative'],\n",
       "  'scores': [0.9756219387054443, 0.024378037080168724]},\n",
       " {'sequence': 'Weekly editor resorts to hunger strike',\n",
       "  'labels': ['negative', 'positive'],\n",
       "  'scores': [0.9902636408805847, 0.009736339561641216]},\n",
       " {'sequence': 'Bickering cost Dal(S) seats; admits Gowda',\n",
       "  'labels': ['negative', 'positive'],\n",
       "  'scores': [0.9896393418312073, 0.010360670275986195]},\n",
       " {'sequence': 'BJP to block traffic statewide on Jan 6',\n",
       "  'labels': ['negative', 'positive'],\n",
       "  'scores': [0.9723618626594543, 0.02763819694519043]},\n",
       " {'sequence': 'Dr Patwardhan to be felicitated',\n",
       "  'labels': ['positive', 'negative'],\n",
       "  'scores': [0.9926658272743225, 0.007334184367209673]},\n",
       " {'sequence': 'Lingambudhi will be turned into bird sanctuary',\n",
       "  'labels': ['positive', 'negative'],\n",
       "  'scores': [0.673623263835907, 0.326376736164093]},\n",
       " {'sequence': 'Cactus which made it to Guinness is dying',\n",
       "  'labels': ['negative', 'positive'],\n",
       "  'scores': [0.9728910326957703, 0.027108972892165184]},\n",
       " {'sequence': 'VIPs suffer as power supply is stopped to govt guest houses',\n",
       "  'labels': ['negative', 'positive'],\n",
       "  'scores': [0.9898456931114197, 0.010154352523386478]},\n",
       " {'sequence': 'Raju Chacha',\n",
       "  'labels': ['positive', 'negative'],\n",
       "  'scores': [0.7307621240615845, 0.2692378759384155]},\n",
       " {'sequence': 'Powerless north India gropes in the dark',\n",
       "  'labels': ['negative', 'positive'],\n",
       "  'scores': [0.9833082556724548, 0.016691740602254868]},\n",
       " {'sequence': 'Think again; Laxman tells Sangh Parivar',\n",
       "  'labels': ['negative', 'positive'],\n",
       "  'scores': [0.9318934679031372, 0.06810653954744339]},\n",
       " {'sequence': 'Hurriyat undecided over team to Pakistan',\n",
       "  'labels': ['negative', 'positive'],\n",
       "  'scores': [0.8713440299034119, 0.12865598499774933]},\n",
       " {'sequence': 'Vajpayee wants to put reforms on fast track',\n",
       "  'labels': ['positive', 'negative'],\n",
       "  'scores': [0.6018238067626953, 0.3981762230396271]},\n",
       " {'sequence': 'Stephen Hawking keeps date with Mumbai',\n",
       "  'labels': ['positive', 'negative'],\n",
       "  'scores': [0.7064222097396851, 0.29357776045799255]},\n",
       " {'sequence': 'Anti-Hrithik or anti-hopelessness',\n",
       "  'labels': ['negative', 'positive'],\n",
       "  'scores': [0.9475919008255005, 0.05240815132856369]},\n",
       " {'sequence': 'Govt plans stadium near Panaji',\n",
       "  'labels': ['positive', 'negative'],\n",
       "  'scores': [0.7574502229690552, 0.2425498068332672]},\n",
       " {'sequence': 'BJP doing a volte face on casinos: Cong',\n",
       "  'labels': ['negative', 'positive'],\n",
       "  'scores': [0.9489045739173889, 0.05109543725848198]},\n",
       " {'sequence': '3 watershed projects on the anvil',\n",
       "  'labels': ['positive', 'negative'],\n",
       "  'scores': [0.8926692605018616, 0.10733071714639664]},\n",
       " {'sequence': 'No report yet on fire in Udyog Bhavan',\n",
       "  'labels': ['negative', 'positive'],\n",
       "  'scores': [0.9014468789100647, 0.0985531136393547]},\n",
       " {'sequence': \"He is the king of 'five star' industry\",\n",
       "  'labels': ['positive', 'negative'],\n",
       "  'scores': [0.9810657501220703, 0.018934212625026703]},\n",
       " {'sequence': 'Petrol pump sealed for selling adulterated fuel',\n",
       "  'labels': ['negative', 'positive'],\n",
       "  'scores': [0.9720163941383362, 0.02798355743288994]},\n",
       " {'sequence': 'Milk price up by Rs 1 per litre',\n",
       "  'labels': ['negative', 'positive'],\n",
       "  'scores': [0.933091938495636, 0.06690802425146103]},\n",
       " {'sequence': 'Congress House is no-smoking zone',\n",
       "  'labels': ['negative', 'positive'],\n",
       "  'scores': [0.9412838816642761, 0.05871613696217537]}]"
      ]
     },
     "execution_count": 18,
     "metadata": {},
     "output_type": "execute_result"
    }
   ],
   "source": [
    "sent"
   ]
  },
  {
   "cell_type": "markdown",
   "id": "01e57898",
   "metadata": {},
   "source": [
    "# Converting result into dataframe with maximum score"
   ]
  },
  {
   "cell_type": "code",
   "execution_count": 19,
   "id": "68e8e5cc",
   "metadata": {},
   "outputs": [],
   "source": [
    "output = []\n",
    "\n",
    "filter_key1 = ['labels']\n",
    "filter_key2 = ['scores']\n",
    "\n",
    "for index, row in df_head.iterrows():\n",
    "  d = {}\n",
    "  seq = row['headline_text']\n",
    "  result = classifier(seq, candidate_labels, multi_label=True)\n",
    " # print(result)\n",
    "  temp_label = list(map(result.get, filter_key1))\n",
    "  temp_score = list(map(result.get, filter_key2))\n",
    " # print(temp)\n",
    "  d['headline_text'] = row['headline_text']\n",
    "  d['label'] = temp_label[0][0]\n",
    "  d['score'] = temp_score[0][0]\n",
    "  output.append(d) "
   ]
  },
  {
   "cell_type": "code",
   "execution_count": 20,
   "id": "d2c20a1a",
   "metadata": {},
   "outputs": [
    {
     "data": {
      "text/html": [
       "<div>\n",
       "<style scoped>\n",
       "    .dataframe tbody tr th:only-of-type {\n",
       "        vertical-align: middle;\n",
       "    }\n",
       "\n",
       "    .dataframe tbody tr th {\n",
       "        vertical-align: top;\n",
       "    }\n",
       "\n",
       "    .dataframe thead th {\n",
       "        text-align: right;\n",
       "    }\n",
       "</style>\n",
       "<table border=\"1\" class=\"dataframe\">\n",
       "  <thead>\n",
       "    <tr style=\"text-align: right;\">\n",
       "      <th></th>\n",
       "      <th>headline_text</th>\n",
       "      <th>label</th>\n",
       "      <th>score</th>\n",
       "    </tr>\n",
       "  </thead>\n",
       "  <tbody>\n",
       "    <tr>\n",
       "      <th>0</th>\n",
       "      <td>Status quo will not be disturbed at Ayodhya; s...</td>\n",
       "      <td>politics</td>\n",
       "      <td>0.825551</td>\n",
       "    </tr>\n",
       "    <tr>\n",
       "      <th>1</th>\n",
       "      <td>Fissures in Hurriyat over Pak visit</td>\n",
       "      <td>politics</td>\n",
       "      <td>0.979146</td>\n",
       "    </tr>\n",
       "    <tr>\n",
       "      <th>2</th>\n",
       "      <td>America's unwanted heading for India?</td>\n",
       "      <td>politics</td>\n",
       "      <td>0.753297</td>\n",
       "    </tr>\n",
       "    <tr>\n",
       "      <th>3</th>\n",
       "      <td>For bigwigs; it is destination Goa</td>\n",
       "      <td>politics</td>\n",
       "      <td>0.989296</td>\n",
       "    </tr>\n",
       "    <tr>\n",
       "      <th>4</th>\n",
       "      <td>Extra buses to clear tourist traffic</td>\n",
       "      <td>entertainment</td>\n",
       "      <td>0.360120</td>\n",
       "    </tr>\n",
       "    <tr>\n",
       "      <th>...</th>\n",
       "      <td>...</td>\n",
       "      <td>...</td>\n",
       "      <td>...</td>\n",
       "    </tr>\n",
       "    <tr>\n",
       "      <th>95</th>\n",
       "      <td>No report yet on fire in Udyog Bhavan</td>\n",
       "      <td>politics</td>\n",
       "      <td>0.283649</td>\n",
       "    </tr>\n",
       "    <tr>\n",
       "      <th>96</th>\n",
       "      <td>He is the king of 'five star' industry</td>\n",
       "      <td>finance</td>\n",
       "      <td>0.422596</td>\n",
       "    </tr>\n",
       "    <tr>\n",
       "      <th>97</th>\n",
       "      <td>Petrol pump sealed for selling adulterated fuel</td>\n",
       "      <td>technology</td>\n",
       "      <td>0.062894</td>\n",
       "    </tr>\n",
       "    <tr>\n",
       "      <th>98</th>\n",
       "      <td>Milk price up by Rs 1 per litre</td>\n",
       "      <td>agriculture</td>\n",
       "      <td>0.925066</td>\n",
       "    </tr>\n",
       "    <tr>\n",
       "      <th>99</th>\n",
       "      <td>Congress House is no-smoking zone</td>\n",
       "      <td>politics</td>\n",
       "      <td>0.908563</td>\n",
       "    </tr>\n",
       "  </tbody>\n",
       "</table>\n",
       "<p>100 rows × 3 columns</p>\n",
       "</div>"
      ],
      "text/plain": [
       "                                        headline_text          label     score\n",
       "0   Status quo will not be disturbed at Ayodhya; s...       politics  0.825551\n",
       "1                 Fissures in Hurriyat over Pak visit       politics  0.979146\n",
       "2               America's unwanted heading for India?       politics  0.753297\n",
       "3                  For bigwigs; it is destination Goa       politics  0.989296\n",
       "4                Extra buses to clear tourist traffic  entertainment  0.360120\n",
       "..                                                ...            ...       ...\n",
       "95              No report yet on fire in Udyog Bhavan       politics  0.283649\n",
       "96             He is the king of 'five star' industry        finance  0.422596\n",
       "97    Petrol pump sealed for selling adulterated fuel     technology  0.062894\n",
       "98                    Milk price up by Rs 1 per litre    agriculture  0.925066\n",
       "99                  Congress House is no-smoking zone       politics  0.908563\n",
       "\n",
       "[100 rows x 3 columns]"
      ]
     },
     "execution_count": 20,
     "metadata": {},
     "output_type": "execute_result"
    }
   ],
   "source": [
    " #convert the list of dictionary into pandas DataFrame\n",
    " new = pd.DataFrame(output)\n",
    " new"
   ]
  },
  {
   "cell_type": "code",
   "execution_count": null,
   "id": "5aa7f5a8",
   "metadata": {},
   "outputs": [],
   "source": []
  }
 ],
 "metadata": {
  "kernelspec": {
   "display_name": "Python 3 (ipykernel)",
   "language": "python",
   "name": "python3"
  },
  "language_info": {
   "codemirror_mode": {
    "name": "ipython",
    "version": 3
   },
   "file_extension": ".py",
   "mimetype": "text/x-python",
   "name": "python",
   "nbconvert_exporter": "python",
   "pygments_lexer": "ipython3",
   "version": "3.11.5"
  }
 },
 "nbformat": 4,
 "nbformat_minor": 5
}
